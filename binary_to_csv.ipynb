{
 "cells": [
  {
   "cell_type": "code",
   "execution_count": null,
   "metadata": {
    "vscode": {
     "languageId": "plaintext"
    }
   },
   "outputs": [],
   "source": [
    "import os\n",
    "import struct\n",
    "import pandas as pd\n",
    "\n",
    "def binary_to_csv(input_folder, output_folder, point_format='f f f f', column_names=['x', 'y', 'z', 'intensity']):\n",
    "    # Create output folder if it doesn't exist\n",
    "    os.makedirs(output_folder, exist_ok=True)\n",
    "    \n",
    "    # Iterate over all files in the input folder\n",
    "    for file_name in os.listdir(input_folder):\n",
    "        input_file_path = os.path.join(input_folder, file_name)\n",
    "        \n",
    "        # Check if the file is a binary file\n",
    "        if os.path.isfile(input_file_path) and file_name.endswith('.bin'):\n",
    "            points = []\n",
    "            \n",
    "            # Open the binary file in read-binary mode\n",
    "            with open(input_file_path, 'rb') as f:\n",
    "                while True:\n",
    "                    # Read a point (based on the defined format, e.g., 'f f f f' for four floats)\n",
    "                    bytes_read = f.read(struct.calcsize(point_format))\n",
    "                    \n",
    "                    # If there's no more data to read, break the loop\n",
    "                    if not bytes_read:\n",
    "                        break\n",
    "                    \n",
    "                    # Unpack the binary data according to the format\n",
    "                    point = struct.unpack(point_format, bytes_read)\n",
    "                    points.append(point)\n",
    "            \n",
    "            # Convert points list to a DataFrame and save to CSV\n",
    "            df = pd.DataFrame(points, columns=column_names)\n",
    "            output_file_path = os.path.join(output_folder, file_name.replace('.bin', '.csv'))\n",
    "            df.to_csv(output_file_path, index=False)\n",
    "            \n",
    "            print(f\"Converted {file_name} to {output_file_path}\")\n",
    "\n",
    "# Usage\n",
    "input_folder = 'E:/intern_work_testing/binary_data'  # Replace with the path to the folder with .bin files\n",
    "output_folder = 'E:/intern_work_testing/converted_csv_dataset'    # Replace with the path to the folder to save CSV files\n",
    "binary_to_csv(input_folder, output_folder)\n"
   ]
  }
 ],
 "metadata": {
  "language_info": {
   "name": "python"
  }
 },
 "nbformat": 4,
 "nbformat_minor": 2
}
